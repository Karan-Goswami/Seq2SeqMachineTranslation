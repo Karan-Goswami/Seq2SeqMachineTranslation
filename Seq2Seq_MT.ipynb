{
  "nbformat": 4,
  "nbformat_minor": 0,
  "metadata": {
    "colab": {
      "provenance": [],
      "gpuType": "T4"
    },
    "kernelspec": {
      "name": "python3",
      "display_name": "Python 3"
    },
    "language_info": {
      "name": "python"
    },
    "accelerator": "GPU"
  },
  "cells": [
    {
      "cell_type": "code",
      "source": [
        "from google.colab import drive\n",
        "drive.mount('/content/drive')"
      ],
      "metadata": {
        "colab": {
          "base_uri": "https://localhost:8080/"
        },
        "id": "ruhpa-jATHPr",
        "outputId": "93166357-69c8-4158-917c-0bbafb1c968d"
      },
      "execution_count": null,
      "outputs": [
        {
          "output_type": "stream",
          "name": "stdout",
          "text": [
            "Drive already mounted at /content/drive; to attempt to forcibly remount, call drive.mount(\"/content/drive\", force_remount=True).\n"
          ]
        }
      ]
    },
    {
      "cell_type": "markdown",
      "source": [
        "Loading Dataset"
      ],
      "metadata": {
        "id": "K4F7VLorT8rk"
      }
    },
    {
      "cell_type": "code",
      "execution_count": 96,
      "metadata": {
        "colab": {
          "base_uri": "https://localhost:8080/",
          "height": 206
        },
        "id": "ewdfGmxOSixH",
        "outputId": "bfd625f8-b4bf-4117-e8c7-4f8712ae131b"
      },
      "outputs": [
        {
          "output_type": "execute_result",
          "data": {
            "text/plain": [
              "  English words/sentences French words/sentences\n",
              "0                     Hi.                 Salut!\n",
              "1                    Run!                Cours !\n",
              "2                    Run!               Courez !\n",
              "3                    Who?                  Qui ?\n",
              "4                    Wow!             Ça alors !"
            ],
            "text/html": [
              "\n",
              "  <div id=\"df-4165e16e-e42d-4a29-8998-d77737aff24e\" class=\"colab-df-container\">\n",
              "    <div>\n",
              "<style scoped>\n",
              "    .dataframe tbody tr th:only-of-type {\n",
              "        vertical-align: middle;\n",
              "    }\n",
              "\n",
              "    .dataframe tbody tr th {\n",
              "        vertical-align: top;\n",
              "    }\n",
              "\n",
              "    .dataframe thead th {\n",
              "        text-align: right;\n",
              "    }\n",
              "</style>\n",
              "<table border=\"1\" class=\"dataframe\">\n",
              "  <thead>\n",
              "    <tr style=\"text-align: right;\">\n",
              "      <th></th>\n",
              "      <th>English words/sentences</th>\n",
              "      <th>French words/sentences</th>\n",
              "    </tr>\n",
              "  </thead>\n",
              "  <tbody>\n",
              "    <tr>\n",
              "      <th>0</th>\n",
              "      <td>Hi.</td>\n",
              "      <td>Salut!</td>\n",
              "    </tr>\n",
              "    <tr>\n",
              "      <th>1</th>\n",
              "      <td>Run!</td>\n",
              "      <td>Cours !</td>\n",
              "    </tr>\n",
              "    <tr>\n",
              "      <th>2</th>\n",
              "      <td>Run!</td>\n",
              "      <td>Courez !</td>\n",
              "    </tr>\n",
              "    <tr>\n",
              "      <th>3</th>\n",
              "      <td>Who?</td>\n",
              "      <td>Qui ?</td>\n",
              "    </tr>\n",
              "    <tr>\n",
              "      <th>4</th>\n",
              "      <td>Wow!</td>\n",
              "      <td>Ça alors !</td>\n",
              "    </tr>\n",
              "  </tbody>\n",
              "</table>\n",
              "</div>\n",
              "    <div class=\"colab-df-buttons\">\n",
              "\n",
              "  <div class=\"colab-df-container\">\n",
              "    <button class=\"colab-df-convert\" onclick=\"convertToInteractive('df-4165e16e-e42d-4a29-8998-d77737aff24e')\"\n",
              "            title=\"Convert this dataframe to an interactive table.\"\n",
              "            style=\"display:none;\">\n",
              "\n",
              "  <svg xmlns=\"http://www.w3.org/2000/svg\" height=\"24px\" viewBox=\"0 -960 960 960\">\n",
              "    <path d=\"M120-120v-720h720v720H120Zm60-500h600v-160H180v160Zm220 220h160v-160H400v160Zm0 220h160v-160H400v160ZM180-400h160v-160H180v160Zm440 0h160v-160H620v160ZM180-180h160v-160H180v160Zm440 0h160v-160H620v160Z\"/>\n",
              "  </svg>\n",
              "    </button>\n",
              "\n",
              "  <style>\n",
              "    .colab-df-container {\n",
              "      display:flex;\n",
              "      gap: 12px;\n",
              "    }\n",
              "\n",
              "    .colab-df-convert {\n",
              "      background-color: #E8F0FE;\n",
              "      border: none;\n",
              "      border-radius: 50%;\n",
              "      cursor: pointer;\n",
              "      display: none;\n",
              "      fill: #1967D2;\n",
              "      height: 32px;\n",
              "      padding: 0 0 0 0;\n",
              "      width: 32px;\n",
              "    }\n",
              "\n",
              "    .colab-df-convert:hover {\n",
              "      background-color: #E2EBFA;\n",
              "      box-shadow: 0px 1px 2px rgba(60, 64, 67, 0.3), 0px 1px 3px 1px rgba(60, 64, 67, 0.15);\n",
              "      fill: #174EA6;\n",
              "    }\n",
              "\n",
              "    .colab-df-buttons div {\n",
              "      margin-bottom: 4px;\n",
              "    }\n",
              "\n",
              "    [theme=dark] .colab-df-convert {\n",
              "      background-color: #3B4455;\n",
              "      fill: #D2E3FC;\n",
              "    }\n",
              "\n",
              "    [theme=dark] .colab-df-convert:hover {\n",
              "      background-color: #434B5C;\n",
              "      box-shadow: 0px 1px 3px 1px rgba(0, 0, 0, 0.15);\n",
              "      filter: drop-shadow(0px 1px 2px rgba(0, 0, 0, 0.3));\n",
              "      fill: #FFFFFF;\n",
              "    }\n",
              "  </style>\n",
              "\n",
              "    <script>\n",
              "      const buttonEl =\n",
              "        document.querySelector('#df-4165e16e-e42d-4a29-8998-d77737aff24e button.colab-df-convert');\n",
              "      buttonEl.style.display =\n",
              "        google.colab.kernel.accessAllowed ? 'block' : 'none';\n",
              "\n",
              "      async function convertToInteractive(key) {\n",
              "        const element = document.querySelector('#df-4165e16e-e42d-4a29-8998-d77737aff24e');\n",
              "        const dataTable =\n",
              "          await google.colab.kernel.invokeFunction('convertToInteractive',\n",
              "                                                    [key], {});\n",
              "        if (!dataTable) return;\n",
              "\n",
              "        const docLinkHtml = 'Like what you see? Visit the ' +\n",
              "          '<a target=\"_blank\" href=https://colab.research.google.com/notebooks/data_table.ipynb>data table notebook</a>'\n",
              "          + ' to learn more about interactive tables.';\n",
              "        element.innerHTML = '';\n",
              "        dataTable['output_type'] = 'display_data';\n",
              "        await google.colab.output.renderOutput(dataTable, element);\n",
              "        const docLink = document.createElement('div');\n",
              "        docLink.innerHTML = docLinkHtml;\n",
              "        element.appendChild(docLink);\n",
              "      }\n",
              "    </script>\n",
              "  </div>\n",
              "\n",
              "\n",
              "<div id=\"df-239dcdd3-804f-496a-b420-86739dca9931\">\n",
              "  <button class=\"colab-df-quickchart\" onclick=\"quickchart('df-239dcdd3-804f-496a-b420-86739dca9931')\"\n",
              "            title=\"Suggest charts\"\n",
              "            style=\"display:none;\">\n",
              "\n",
              "<svg xmlns=\"http://www.w3.org/2000/svg\" height=\"24px\"viewBox=\"0 0 24 24\"\n",
              "     width=\"24px\">\n",
              "    <g>\n",
              "        <path d=\"M19 3H5c-1.1 0-2 .9-2 2v14c0 1.1.9 2 2 2h14c1.1 0 2-.9 2-2V5c0-1.1-.9-2-2-2zM9 17H7v-7h2v7zm4 0h-2V7h2v10zm4 0h-2v-4h2v4z\"/>\n",
              "    </g>\n",
              "</svg>\n",
              "  </button>\n",
              "\n",
              "<style>\n",
              "  .colab-df-quickchart {\n",
              "      --bg-color: #E8F0FE;\n",
              "      --fill-color: #1967D2;\n",
              "      --hover-bg-color: #E2EBFA;\n",
              "      --hover-fill-color: #174EA6;\n",
              "      --disabled-fill-color: #AAA;\n",
              "      --disabled-bg-color: #DDD;\n",
              "  }\n",
              "\n",
              "  [theme=dark] .colab-df-quickchart {\n",
              "      --bg-color: #3B4455;\n",
              "      --fill-color: #D2E3FC;\n",
              "      --hover-bg-color: #434B5C;\n",
              "      --hover-fill-color: #FFFFFF;\n",
              "      --disabled-bg-color: #3B4455;\n",
              "      --disabled-fill-color: #666;\n",
              "  }\n",
              "\n",
              "  .colab-df-quickchart {\n",
              "    background-color: var(--bg-color);\n",
              "    border: none;\n",
              "    border-radius: 50%;\n",
              "    cursor: pointer;\n",
              "    display: none;\n",
              "    fill: var(--fill-color);\n",
              "    height: 32px;\n",
              "    padding: 0;\n",
              "    width: 32px;\n",
              "  }\n",
              "\n",
              "  .colab-df-quickchart:hover {\n",
              "    background-color: var(--hover-bg-color);\n",
              "    box-shadow: 0 1px 2px rgba(60, 64, 67, 0.3), 0 1px 3px 1px rgba(60, 64, 67, 0.15);\n",
              "    fill: var(--button-hover-fill-color);\n",
              "  }\n",
              "\n",
              "  .colab-df-quickchart-complete:disabled,\n",
              "  .colab-df-quickchart-complete:disabled:hover {\n",
              "    background-color: var(--disabled-bg-color);\n",
              "    fill: var(--disabled-fill-color);\n",
              "    box-shadow: none;\n",
              "  }\n",
              "\n",
              "  .colab-df-spinner {\n",
              "    border: 2px solid var(--fill-color);\n",
              "    border-color: transparent;\n",
              "    border-bottom-color: var(--fill-color);\n",
              "    animation:\n",
              "      spin 1s steps(1) infinite;\n",
              "  }\n",
              "\n",
              "  @keyframes spin {\n",
              "    0% {\n",
              "      border-color: transparent;\n",
              "      border-bottom-color: var(--fill-color);\n",
              "      border-left-color: var(--fill-color);\n",
              "    }\n",
              "    20% {\n",
              "      border-color: transparent;\n",
              "      border-left-color: var(--fill-color);\n",
              "      border-top-color: var(--fill-color);\n",
              "    }\n",
              "    30% {\n",
              "      border-color: transparent;\n",
              "      border-left-color: var(--fill-color);\n",
              "      border-top-color: var(--fill-color);\n",
              "      border-right-color: var(--fill-color);\n",
              "    }\n",
              "    40% {\n",
              "      border-color: transparent;\n",
              "      border-right-color: var(--fill-color);\n",
              "      border-top-color: var(--fill-color);\n",
              "    }\n",
              "    60% {\n",
              "      border-color: transparent;\n",
              "      border-right-color: var(--fill-color);\n",
              "    }\n",
              "    80% {\n",
              "      border-color: transparent;\n",
              "      border-right-color: var(--fill-color);\n",
              "      border-bottom-color: var(--fill-color);\n",
              "    }\n",
              "    90% {\n",
              "      border-color: transparent;\n",
              "      border-bottom-color: var(--fill-color);\n",
              "    }\n",
              "  }\n",
              "</style>\n",
              "\n",
              "  <script>\n",
              "    async function quickchart(key) {\n",
              "      const quickchartButtonEl =\n",
              "        document.querySelector('#' + key + ' button');\n",
              "      quickchartButtonEl.disabled = true;  // To prevent multiple clicks.\n",
              "      quickchartButtonEl.classList.add('colab-df-spinner');\n",
              "      try {\n",
              "        const charts = await google.colab.kernel.invokeFunction(\n",
              "            'suggestCharts', [key], {});\n",
              "      } catch (error) {\n",
              "        console.error('Error during call to suggestCharts:', error);\n",
              "      }\n",
              "      quickchartButtonEl.classList.remove('colab-df-spinner');\n",
              "      quickchartButtonEl.classList.add('colab-df-quickchart-complete');\n",
              "    }\n",
              "    (() => {\n",
              "      let quickchartButtonEl =\n",
              "        document.querySelector('#df-239dcdd3-804f-496a-b420-86739dca9931 button');\n",
              "      quickchartButtonEl.style.display =\n",
              "        google.colab.kernel.accessAllowed ? 'block' : 'none';\n",
              "    })();\n",
              "  </script>\n",
              "</div>\n",
              "\n",
              "    </div>\n",
              "  </div>\n"
            ],
            "application/vnd.google.colaboratory.intrinsic+json": {
              "type": "dataframe",
              "variable_name": "df"
            }
          },
          "metadata": {},
          "execution_count": 96
        }
      ],
      "source": [
        "import pandas as pd\n",
        "df = pd.read_csv(\"/content/drive/MyDrive/Colab Notebooks/NLP/Assignment 2/e2f.csv\")\n",
        "df.head()"
      ]
    },
    {
      "cell_type": "code",
      "source": [
        "df.shape"
      ],
      "metadata": {
        "colab": {
          "base_uri": "https://localhost:8080/"
        },
        "id": "bFe-I96xcmq7",
        "outputId": "fcf69618-8719-423a-bfc2-99e9b3e226f6"
      },
      "execution_count": 97,
      "outputs": [
        {
          "output_type": "execute_result",
          "data": {
            "text/plain": [
              "(175621, 2)"
            ]
          },
          "metadata": {},
          "execution_count": 97
        }
      ]
    },
    {
      "cell_type": "code",
      "source": [
        "df = df.drop(df.index[10000:175621])\n",
        "df.shape"
      ],
      "metadata": {
        "colab": {
          "base_uri": "https://localhost:8080/"
        },
        "id": "trh3WXYtcj9b",
        "outputId": "747840fe-565a-4eb3-f202-3c4b59514299"
      },
      "execution_count": 98,
      "outputs": [
        {
          "output_type": "execute_result",
          "data": {
            "text/plain": [
              "(10000, 2)"
            ]
          },
          "metadata": {},
          "execution_count": 98
        }
      ]
    },
    {
      "cell_type": "code",
      "source": [
        "df.info()"
      ],
      "metadata": {
        "colab": {
          "base_uri": "https://localhost:8080/"
        },
        "id": "in9J4PupTDYv",
        "outputId": "7858c4a1-cff8-43b1-f8ee-4ff9ddfaff99"
      },
      "execution_count": 99,
      "outputs": [
        {
          "output_type": "stream",
          "name": "stdout",
          "text": [
            "<class 'pandas.core.frame.DataFrame'>\n",
            "RangeIndex: 10000 entries, 0 to 9999\n",
            "Data columns (total 2 columns):\n",
            " #   Column                   Non-Null Count  Dtype \n",
            "---  ------                   --------------  ----- \n",
            " 0   English words/sentences  10000 non-null  object\n",
            " 1   French words/sentences   10000 non-null  object\n",
            "dtypes: object(2)\n",
            "memory usage: 156.4+ KB\n"
          ]
        }
      ]
    },
    {
      "cell_type": "code",
      "source": [
        "input_texts = df[\"English words/sentences\"].tolist()\n",
        "target_texts = df[\"French words/sentences\"].tolist()"
      ],
      "metadata": {
        "id": "Oh59OcM-TVg4"
      },
      "execution_count": 100,
      "outputs": []
    },
    {
      "cell_type": "code",
      "source": [
        "target_texts[:5]"
      ],
      "metadata": {
        "colab": {
          "base_uri": "https://localhost:8080/"
        },
        "id": "mE63QEnZVzXs",
        "outputId": "428a6fb6-53bf-4155-db46-55acc6dac408"
      },
      "execution_count": 101,
      "outputs": [
        {
          "output_type": "execute_result",
          "data": {
            "text/plain": [
              "['Salut!', 'Cours\\u202f!', 'Courez\\u202f!', 'Qui ?', 'Ça alors\\u202f!']"
            ]
          },
          "metadata": {},
          "execution_count": 101
        }
      ]
    },
    {
      "cell_type": "markdown",
      "source": [
        "# Text Preprocessing"
      ],
      "metadata": {
        "id": "m4g7FhJPaF7d"
      }
    },
    {
      "cell_type": "code",
      "source": [
        "from tensorflow.keras.preprocessing.text import Tokenizer\n",
        "from tensorflow.keras.preprocessing.sequence import pad_sequences\n",
        "\n",
        "def preprocess_data(input_texts, target_texts):\n",
        "    # Initialize input and target tokenizers\n",
        "    input_tokenizer = Tokenizer()\n",
        "    target_tokenizer = Tokenizer()\n",
        "\n",
        "    # Fit tokenizers on input and target texts\n",
        "    input_tokenizer.fit_on_texts(input_texts)\n",
        "    target_tokenizer.fit_on_texts(target_texts)\n",
        "\n",
        "    # Add '<start>' and '<end>' tokens to the target tokenizer vocabulary\n",
        "    target_tokenizer.word_index['<start>'] = len(target_tokenizer.word_index) + 1\n",
        "    target_tokenizer.word_index['<end>'] = len(target_tokenizer.word_index) + 1\n",
        "\n",
        "    # Update the reverse index as well\n",
        "    target_tokenizer.index_word[len(target_tokenizer.word_index) - 1] = '<start>'\n",
        "    target_tokenizer.index_word[len(target_tokenizer.word_index)] = '<end>'\n",
        "\n",
        "    # Convert texts to sequences\n",
        "    input_sequences = input_tokenizer (input_texts)\n",
        "    target_sequences = target_tokenizer.texts_to_sequences(target_texts)\n",
        "\n",
        "    # Pad sequences\n",
        "    input_sequences = pad_sequences(input_sequences, padding='post')\n",
        "    target_sequences = pad_sequences(target_sequences, padding='post')\n",
        "\n",
        "    return input_sequences, target_sequences, input_tokenizer, target_tokenizer"
      ],
      "metadata": {
        "id": "TRb0r41RV0ik"
      },
      "execution_count": 102,
      "outputs": []
    },
    {
      "cell_type": "code",
      "source": [
        "input_sequences, target_sequences, input_tokenizer, target_tokenizer = preprocess_data(input_texts, target_texts)"
      ],
      "metadata": {
        "id": "Ofsa_FBSabHJ",
        "colab": {
          "base_uri": "https://localhost:8080/",
          "height": 263
        },
        "outputId": "241e25b2-fe3c-45a8-fd15-063552ed3ee5"
      },
      "execution_count": 103,
      "outputs": [
        {
          "output_type": "error",
          "ename": "TypeError",
          "evalue": "'Tokenizer' object is not callable",
          "traceback": [
            "\u001b[0;31m---------------------------------------------------------------------------\u001b[0m",
            "\u001b[0;31mTypeError\u001b[0m                                 Traceback (most recent call last)",
            "\u001b[0;32m<ipython-input-103-5c53b4297bba>\u001b[0m in \u001b[0;36m<cell line: 1>\u001b[0;34m()\u001b[0m\n\u001b[0;32m----> 1\u001b[0;31m \u001b[0minput_sequences\u001b[0m\u001b[0;34m,\u001b[0m \u001b[0mtarget_sequences\u001b[0m\u001b[0;34m,\u001b[0m \u001b[0minput_tokenizer\u001b[0m\u001b[0;34m,\u001b[0m \u001b[0mtarget_tokenizer\u001b[0m \u001b[0;34m=\u001b[0m \u001b[0mpreprocess_data\u001b[0m\u001b[0;34m(\u001b[0m\u001b[0minput_texts\u001b[0m\u001b[0;34m,\u001b[0m \u001b[0mtarget_texts\u001b[0m\u001b[0;34m)\u001b[0m\u001b[0;34m\u001b[0m\u001b[0;34m\u001b[0m\u001b[0m\n\u001b[0m",
            "\u001b[0;32m<ipython-input-102-6e0eceb2639a>\u001b[0m in \u001b[0;36mpreprocess_data\u001b[0;34m(input_texts, target_texts)\u001b[0m\n\u001b[1;32m     20\u001b[0m \u001b[0;34m\u001b[0m\u001b[0m\n\u001b[1;32m     21\u001b[0m     \u001b[0;31m# Convert texts to sequences\u001b[0m\u001b[0;34m\u001b[0m\u001b[0;34m\u001b[0m\u001b[0m\n\u001b[0;32m---> 22\u001b[0;31m     \u001b[0minput_sequences\u001b[0m \u001b[0;34m=\u001b[0m \u001b[0minput_tokenizer\u001b[0m \u001b[0;34m(\u001b[0m\u001b[0minput_texts\u001b[0m\u001b[0;34m)\u001b[0m\u001b[0;34m\u001b[0m\u001b[0;34m\u001b[0m\u001b[0m\n\u001b[0m\u001b[1;32m     23\u001b[0m     \u001b[0mtarget_sequences\u001b[0m \u001b[0;34m=\u001b[0m \u001b[0mtarget_tokenizer\u001b[0m\u001b[0;34m.\u001b[0m\u001b[0mtexts_to_sequences\u001b[0m\u001b[0;34m(\u001b[0m\u001b[0mtarget_texts\u001b[0m\u001b[0;34m)\u001b[0m\u001b[0;34m\u001b[0m\u001b[0;34m\u001b[0m\u001b[0m\n\u001b[1;32m     24\u001b[0m \u001b[0;34m\u001b[0m\u001b[0m\n",
            "\u001b[0;31mTypeError\u001b[0m: 'Tokenizer' object is not callable"
          ]
        }
      ]
    },
    {
      "cell_type": "markdown",
      "source": [
        "# Building Model"
      ],
      "metadata": {
        "id": "b7TOSQLAVWvd"
      }
    },
    {
      "cell_type": "code",
      "source": [
        "import tensorflow as tf\n",
        "from tensorflow.keras.layers import Input, LSTM, Dense, Embedding, Attention\n",
        "from tensorflow.keras.models import Model"
      ],
      "metadata": {
        "id": "THpjpANoa76J"
      },
      "execution_count": 104,
      "outputs": []
    },
    {
      "cell_type": "code",
      "source": [
        "def build_model(input_vocab_size, target_vocab_size, units):\n",
        "    # Encoder\n",
        "    encoder_inputs = Input(shape=(None,))\n",
        "    encoder_embedding = Embedding(input_vocab_size, units)(encoder_inputs)\n",
        "    encoder_outputs, state_h, state_c = LSTM(units, return_state=True)(encoder_embedding)\n",
        "    encoder_states = [state_h, state_c]\n",
        "\n",
        "    # Decoder\n",
        "    decoder_inputs = Input(shape=(None,))\n",
        "    decoder_embedding = Embedding(target_vocab_size, units)(decoder_inputs)\n",
        "    decoder_lstm = LSTM(units, return_sequences=True, return_state=True)\n",
        "    decoder_outputs, _, _ = decoder_lstm(decoder_embedding, initial_state=encoder_states)\n",
        "\n",
        "    # Attention Layer\n",
        "    attention = Attention()\n",
        "    context_vector = attention([decoder_outputs, encoder_outputs])\n",
        "    decoder_combined_context = tf.concat([context_vector, decoder_outputs], axis=-1)\n",
        "\n",
        "    decoder_dense = Dense(target_vocab_size, activation='softmax')\n",
        "    decoder_outputs = decoder_dense(decoder_combined_context)\n",
        "\n",
        "    model = Model([encoder_inputs, decoder_inputs], decoder_outputs)\n",
        "    return model"
      ],
      "metadata": {
        "id": "Ptw2pec2aZgD"
      },
      "execution_count": 105,
      "outputs": []
    },
    {
      "cell_type": "code",
      "source": [
        "model = build_model(input_vocab_size=len(input_tokenizer.word_index) + 1,\n",
        "                    target_vocab_size=len(target_tokenizer.word_index) + 1,\n",
        "                    units=256)"
      ],
      "metadata": {
        "id": "UtPebmKpc-_u"
      },
      "execution_count": 106,
      "outputs": []
    },
    {
      "cell_type": "code",
      "source": [
        "model.compile(optimizer='adam', loss='sparse_categorical_crossentropy', metrics=['accuracy'])"
      ],
      "metadata": {
        "id": "ap8DqdyGbKZ9"
      },
      "execution_count": 107,
      "outputs": []
    },
    {
      "cell_type": "markdown",
      "source": [
        "After training the model for 20 epochs, the accuracy turned out to be 95%."
      ],
      "metadata": {
        "id": "qmahrER5VhQ5"
      }
    },
    {
      "cell_type": "code",
      "source": [
        "model.fit([input_sequences, target_sequences[:, :-1]], target_sequences[:, 1:], batch_size=64, epochs=30)"
      ],
      "metadata": {
        "colab": {
          "base_uri": "https://localhost:8080/"
        },
        "id": "MoEkDYRSbNMM",
        "outputId": "c216d4f8-69fb-4aa7-c40c-dcde424642f2"
      },
      "execution_count": null,
      "outputs": [
        {
          "output_type": "stream",
          "name": "stdout",
          "text": [
            "Epoch 1/30\n",
            "157/157 [==============================] - 11s 43ms/step - loss: 2.4645 - accuracy: 0.7360\n",
            "Epoch 2/30\n",
            "157/157 [==============================] - 3s 16ms/step - loss: 1.7197 - accuracy: 0.7500\n",
            "Epoch 3/30\n",
            "157/157 [==============================] - 2s 14ms/step - loss: 1.5823 - accuracy: 0.7606\n",
            "Epoch 4/30\n",
            "157/157 [==============================] - 3s 19ms/step - loss: 1.4359 - accuracy: 0.7808\n",
            "Epoch 5/30\n",
            "157/157 [==============================] - 2s 13ms/step - loss: 1.2929 - accuracy: 0.7914\n",
            "Epoch 6/30\n",
            "157/157 [==============================] - 2s 13ms/step - loss: 1.1657 - accuracy: 0.8019\n",
            "Epoch 7/30\n",
            "157/157 [==============================] - 2s 13ms/step - loss: 1.0565 - accuracy: 0.8110\n",
            "Epoch 8/30\n",
            "157/157 [==============================] - 2s 13ms/step - loss: 0.9612 - accuracy: 0.8197\n",
            "Epoch 9/30\n",
            "157/157 [==============================] - 2s 14ms/step - loss: 0.8742 - accuracy: 0.8280\n",
            "Epoch 10/30\n",
            "157/157 [==============================] - 2s 16ms/step - loss: 0.7967 - accuracy: 0.8370\n",
            "Epoch 11/30\n",
            "157/157 [==============================] - 2s 12ms/step - loss: 0.7212 - accuracy: 0.8465\n",
            "Epoch 12/30\n",
            "157/157 [==============================] - 2s 12ms/step - loss: 0.6530 - accuracy: 0.8548\n",
            "Epoch 13/30\n",
            "157/157 [==============================] - 2s 11ms/step - loss: 0.5870 - accuracy: 0.8649\n",
            "Epoch 14/30\n",
            "157/157 [==============================] - 2s 13ms/step - loss: 0.5268 - accuracy: 0.8754\n",
            "Epoch 15/30\n",
            "157/157 [==============================] - 2s 13ms/step - loss: 0.4738 - accuracy: 0.8847\n",
            "Epoch 16/30\n",
            "157/157 [==============================] - 2s 15ms/step - loss: 0.4224 - accuracy: 0.8941\n",
            "Epoch 17/30\n",
            "157/157 [==============================] - 2s 12ms/step - loss: 0.3787 - accuracy: 0.9032\n",
            "Epoch 18/30\n",
            "157/157 [==============================] - 2s 12ms/step - loss: 0.3368 - accuracy: 0.9122\n",
            "Epoch 19/30\n",
            "157/157 [==============================] - 2s 11ms/step - loss: 0.3037 - accuracy: 0.9188\n",
            "Epoch 20/30\n",
            "157/157 [==============================] - 2s 11ms/step - loss: 0.2707 - accuracy: 0.9261\n",
            "Epoch 21/30\n",
            "157/157 [==============================] - 2s 13ms/step - loss: 0.2442 - accuracy: 0.9322\n",
            "Epoch 22/30\n",
            "157/157 [==============================] - 2s 13ms/step - loss: 0.2215 - accuracy: 0.9371\n",
            "Epoch 23/30\n",
            "157/157 [==============================] - 2s 15ms/step - loss: 0.1997 - accuracy: 0.9417\n",
            "Epoch 24/30\n",
            "157/157 [==============================] - 2s 12ms/step - loss: 0.1818 - accuracy: 0.9453\n",
            "Epoch 25/30\n",
            "157/157 [==============================] - 2s 15ms/step - loss: 0.1683 - accuracy: 0.9486\n",
            "Epoch 26/30\n",
            "157/157 [==============================] - 2s 14ms/step - loss: 0.1562 - accuracy: 0.9513\n",
            "Epoch 27/30\n",
            "157/157 [==============================] - 2s 11ms/step - loss: 0.1456 - accuracy: 0.9532\n",
            "Epoch 28/30\n",
            "157/157 [==============================] - 2s 12ms/step - loss: 0.1382 - accuracy: 0.9537\n",
            "Epoch 29/30\n",
            "157/157 [==============================] - 2s 14ms/step - loss: 0.1310 - accuracy: 0.9554\n",
            "Epoch 30/30\n",
            "157/157 [==============================] - 2s 12ms/step - loss: 0.1252 - accuracy: 0.9563\n"
          ]
        },
        {
          "output_type": "execute_result",
          "data": {
            "text/plain": [
              "<keras.src.callbacks.History at 0x7abba3047430>"
            ]
          },
          "metadata": {},
          "execution_count": 80
        }
      ]
    },
    {
      "cell_type": "markdown",
      "source": [
        "# Translation Section"
      ],
      "metadata": {
        "id": "22aw6AyCVqwx"
      }
    },
    {
      "cell_type": "markdown",
      "source": [
        "Translating English to French"
      ],
      "metadata": {
        "id": "knVdV-X0gGfo"
      }
    },
    {
      "cell_type": "code",
      "source": [
        "import numpy as np\n",
        "\n",
        "def translate_sentence(input_sentence, input_tokenizer, target_tokenizer, max_target_length, model):\n",
        "    # Encode the input sentence\n",
        "    input_sequence = input_tokenizer.texts_to_sequences([input_sentence])\n",
        "    input_sequence = pad_sequences(input_sequence, padding='post')\n",
        "\n",
        "    # Initialize the decoder input with a start token\n",
        "    target_sequence = np.zeros((1, 1))\n",
        "    target_sequence[0, 0] = target_tokenizer.word_index['<start>']\n",
        "\n",
        "    # Initialize the translated sentence\n",
        "    translated_sentence = ''\n",
        "\n",
        "    # Iteratively decode\n",
        "    while len(translated_sentence.split()) < max_target_length:\n",
        "        output_tokens = model.predict([input_sequence, target_sequence])\n",
        "        sampled_token_index = np.argmax(output_tokens[0, -1, :])\n",
        "        sampled_char = target_tokenizer.index_word.get(sampled_token_index, None)\n",
        "\n",
        "        # Exit condition: if the predicted token is unknown or if the maximum length is reached\n",
        "        if sampled_char is None:\n",
        "            break\n",
        "\n",
        "        # Append the predicted token to the translated sentence\n",
        "        translated_sentence += sampled_char + ' '\n",
        "\n",
        "        # Update the target sequence for the next iteration\n",
        "        target_sequence = np.zeros((1, 1))\n",
        "        target_sequence[0, 0] = sampled_token_index\n",
        "\n",
        "    return translated_sentence.strip()"
      ],
      "metadata": {
        "id": "KpAmwKGXgPKQ"
      },
      "execution_count": null,
      "outputs": []
    },
    {
      "cell_type": "code",
      "source": [
        "output = translate_sentence(\"Hi\", input_tokenizer, target_tokenizer, 1, model)\n",
        "output"
      ],
      "metadata": {
        "id": "1k7WOz8AxH9m",
        "colab": {
          "base_uri": "https://localhost:8080/",
          "height": 53
        },
        "outputId": "3a40c6a9-71af-4fe3-8765-c560e833c457"
      },
      "execution_count": 95,
      "outputs": [
        {
          "output_type": "stream",
          "name": "stdout",
          "text": [
            "1/1 [==============================] - 0s 21ms/step\n"
          ]
        },
        {
          "output_type": "execute_result",
          "data": {
            "text/plain": [
              "'heureux'"
            ],
            "application/vnd.google.colaboratory.intrinsic+json": {
              "type": "string"
            }
          },
          "metadata": {},
          "execution_count": 95
        }
      ]
    },
    {
      "cell_type": "markdown",
      "source": [
        "# BLEU Score"
      ],
      "metadata": {
        "id": "XvDpDopxgBW0"
      }
    },
    {
      "cell_type": "code",
      "source": [
        "from nltk.translate.bleu_score import sentence_bleu\n",
        "\n",
        "reference = [['Salut']]  # List of reference translations\n",
        "candidate = output.split()  # Candidate translation\n",
        "\n",
        "bleu_score = sentence_bleu(reference, candidate)\n",
        "print(\"BLEU Score:\", bleu_score)"
      ],
      "metadata": {
        "colab": {
          "base_uri": "https://localhost:8080/"
        },
        "id": "FdbvKTwbd-L-",
        "outputId": "82fd7963-a463-464f-8369-6bb13b0ffa05"
      },
      "execution_count": 108,
      "outputs": [
        {
          "output_type": "stream",
          "name": "stdout",
          "text": [
            "BLEU Score: 0\n"
          ]
        }
      ]
    },
    {
      "cell_type": "code",
      "source": [],
      "metadata": {
        "id": "-1xpklV7Ws5W"
      },
      "execution_count": null,
      "outputs": []
    }
  ]
}